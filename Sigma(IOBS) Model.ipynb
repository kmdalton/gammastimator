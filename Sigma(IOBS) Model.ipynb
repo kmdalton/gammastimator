{
 "cells": [
  {
   "cell_type": "code",
   "execution_count": 35,
   "metadata": {},
   "outputs": [
    {
     "name": "stdout",
     "output_type": "stream",
     "text": [
      "Populating the interactive namespace from numpy and matplotlib\n"
     ]
    },
    {
     "name": "stderr",
     "output_type": "stream",
     "text": [
      "/n/home04/kmdalton/opt/anaconda3/lib/python3.6/site-packages/IPython/core/magics/pylab.py:160: UserWarning: pylab import has clobbered these variables: ['f', 'scatter']\n",
      "`%matplotlib` prevents importing * from pylab and numpy\n",
      "  \"\\n`%matplotlib` prevents importing * from pylab and numpy\"\n"
     ]
    },
    {
     "ename": "ModuleNotFoundError",
     "evalue": "No module named 'cvxpy'",
     "output_type": "error",
     "traceback": [
      "\u001b[0;31m\u001b[0m",
      "\u001b[0;31mModuleNotFoundError\u001b[0mTraceback (most recent call last)",
      "\u001b[0;32m<ipython-input-35-a1cb87940f9c>\u001b[0m in \u001b[0;36m<module>\u001b[0;34m()\u001b[0m\n\u001b[1;32m      4\u001b[0m \u001b[0;32mfrom\u001b[0m \u001b[0mscipy\u001b[0m\u001b[0;34m.\u001b[0m\u001b[0moptimize\u001b[0m \u001b[0;32mimport\u001b[0m \u001b[0mminimize\u001b[0m\u001b[0;34m\u001b[0m\u001b[0m\n\u001b[1;32m      5\u001b[0m \u001b[0;32mimport\u001b[0m \u001b[0mre\u001b[0m\u001b[0;34m\u001b[0m\u001b[0m\n\u001b[0;32m----> 6\u001b[0;31m \u001b[0;32mimport\u001b[0m \u001b[0mcvxpy\u001b[0m \u001b[0;32mas\u001b[0m \u001b[0mcvx\u001b[0m\u001b[0;34m\u001b[0m\u001b[0m\n\u001b[0m\u001b[1;32m      7\u001b[0m \u001b[0;34m\u001b[0m\u001b[0m\n\u001b[1;32m      8\u001b[0m \u001b[0;34m\u001b[0m\u001b[0m\n",
      "\u001b[0;31mModuleNotFoundError\u001b[0m: No module named 'cvxpy'"
     ]
    }
   ],
   "source": [
    "%pylab inline\n",
    "import crystal\n",
    "import pandas as pd\n",
    "from scipy.optimize import minimize\n",
    "import re\n",
    "import cvxpy as cvx\n",
    "\n",
    "\n",
    "scatter = lambda x,y,**kw: plt.scatter(x, y, edgecolors='k', facecolors='none', **kw)\n",
    "standardize = lambda x: (x - np.mean(x))/np.std(x)"
   ]
  },
  {
   "cell_type": "code",
   "execution_count": 5,
   "metadata": {},
   "outputs": [],
   "source": [
    "reflectionFN = 'test/reflections.csv.bz2' #DHFR THz Data\n",
    "I = pd.read_csv(reflectionFN).sample(frac=0.01)"
   ]
  },
  {
   "cell_type": "code",
   "execution_count": 34,
   "metadata": {},
   "outputs": [
    {
     "name": "stdout",
     "output_type": "stream",
     "text": [
      "      fun: 28138.530031758062\n",
      " hess_inv: array([[1.66817797e-07]])\n",
      "      jac: array([0.10424805])\n",
      "  message: 'Desired error not necessarily achieved due to precision loss.'\n",
      "     nfev: 270\n",
      "      nit: 1\n",
      "     njev: 86\n",
      "   status: 2\n",
      "  success: False\n",
      "        x: array([-4.11342713e-09])\n"
     ]
    },
    {
     "data": {
      "text/plain": [
       "(-1.1303180663011876, 4.227079431678381)"
      ]
     },
     "execution_count": 34,
     "metadata": {},
     "output_type": "execute_result"
    },
    {
     "data": {
      "image/png": "[encoded data removed]",
      "text/plain": [
       "<Figure size 432x288 with 1 Axes>"
      ]
     },
     "metadata": {},
     "output_type": "display_data"
    }
   ],
   "source": [
    "x = I['IOBS']\n",
    "y = x/I['SIGMA(IOBS)']\n",
    "\n",
    "x,y = standardize(x), standardize(y)\n",
    "\n",
    "scatter(x, y, alpha = 0.05)\n",
    "\n",
    "po = [y.max(), x.mean(), 0.]\n",
    "\n",
    "for i in range(10):\n",
    "    A,B,C = po\n",
    "    f = minimize(lambda p: np.sum(np.abs(\n",
    "        y*p[1] + y*x - p[0]*x - C*p[1] + C*x\n",
    "    )), [A, B])\n",
    "    A,B = f.x\n",
    "    f = minimize(lambda p: np.sum(np.abs(\n",
    "        y*B + y*x - A*x - C*B + p[0]*x\n",
    "    )), [C])\n",
    "    C = f.x\n",
    "\n",
    "print(f)\n",
    "p = f.x\n",
    "\n",
    "x = np.linspace(plt.xlim()[0], plt.xlim()[1], 1000)\n",
    "y = x*A/(B + x) + C\n",
    "ymin,ymax = plt.ylim()\n",
    "plt.plot(x, y, '--r')\n",
    "plt.ylim(ymin, ymax)"
   ]
  }
 ],
 "metadata": {
  "kernelspec": {
   "display_name": "Python 3",
   "language": "python",
   "name": "python3"
  }
 },
 "nbformat": 4,
 "nbformat_minor": 2
}
