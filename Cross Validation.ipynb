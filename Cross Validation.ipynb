{
 "cells": [
  {
   "cell_type": "code",
   "execution_count": 47,
   "metadata": {},
   "outputs": [
    {
     "name": "stdout",
     "output_type": "stream",
     "text": [
      "Populating the interactive namespace from numpy and matplotlib\n",
      "Version: 1.10.0\n",
      "[name: \"/device:CPU:0\"\n",
      "device_type: \"CPU\"\n",
      "memory_limit: 268435456\n",
      "locality {\n",
      "}\n",
      "incarnation: 1529617560239862356\n",
      ", name: \"/device:GPU:0\"\n",
      "device_type: \"GPU\"\n",
      "memory_limit: 64618496\n",
      "locality {\n",
      "  bus_id: 1\n",
      "  links {\n",
      "  }\n",
      "}\n",
      "incarnation: 1456627423538852365\n",
      "physical_device_desc: \"device: 0, name: Tesla V100-PCIE-16GB, pci bus id: 0000:3b:00.0, compute capability: 7.0\"\n",
      "]\n"
     ]
    }
   ],
   "source": [
    "%pylab inline\n",
    "\n",
    "from importlib import reload\n",
    "from scipy.stats import gaussian_kde\n",
    "import tensorflow as tf\n",
    "import gammastimator\n",
    "from tensorflow.contrib.opt import ScipyOptimizerInterface\n",
    "import pandas as pd\n",
    "import simulate\n",
    "from crystal import crystal\n",
    "from tensorflow.python.client import device_lib\n",
    "\n",
    "print(\"Version: {}\".format(tf.__version__))\n",
    "print(device_lib.list_local_devices())\n",
    "\n",
    "inFN = \"test/big_data.csv\"\n",
    "referenceFN = \"test/1ubq.pdb.hkl\"\n",
    "\n",
    "\n",
    "cutoff = 0.1 #Minimum I/sigma -- regrettably essential right now"
   ]
  },
  {
   "cell_type": "code",
   "execution_count": 49,
   "metadata": {},
   "outputs": [
    {
     "data": {
      "image/png": "[encoded data removed]",
      "text/plain": [
       "<Figure size 432x288 with 1 Axes>"
      ]
     },
     "metadata": {},
     "output_type": "display_data"
    }
   ],
   "source": [
    "I = pd.read_csv(inFN)\n",
    "I = I[I['IOBS']/I['SIGMA(IOBS)'] > cutoff]\n",
    "c = crystal().read_hkl(referenceFN).unmerge()\n",
    "_ = plt.hist(I['IOBS']/I['SIGMA(IOBS)'], 200, color='k')\n",
    "\n"
   ]
  },
  {
   "cell_type": "code",
   "execution_count": 50,
   "metadata": {},
   "outputs": [
    {
     "name": "stdout",
     "output_type": "stream",
     "text": [
      "Already up-to-date.\r\n"
     ]
    }
   ],
   "source": [
    "!git pull"
   ]
  },
  {
   "cell_type": "code",
   "execution_count": null,
   "metadata": {},
   "outputs": [
    {
     "name": "stdout",
     "output_type": "stream",
     "text": [
      "Number of reflection observations: 198480\n",
      "Multiplicity: 4.2914594594594595\n",
      "Number of ratio observations: 32371\n",
      "Ratio multiplicity: 1.4603239049036856\n",
      "Number of reflection observations: 198480\n",
      "Multiplicity: 4.300851589416888\n",
      "Number of ratio observations: 32550\n",
      "Ratio multiplicity: 1.4627898615854755\n",
      "Number of reflection observations: 198480\n",
      "Multiplicity: 4.2937804218496485\n",
      "Number of ratio observations: 32472\n",
      "Ratio multiplicity: 1.45961253202679\n",
      "Number of reflection observations: 198480\n",
      "Multiplicity: 4.3045826194452275\n",
      "Number of ratio observations: 32341\n",
      "Ratio multiplicity: 1.4640561339972837\n",
      "Number of reflection observations: 198480\n",
      "Multiplicity: 4.299826689774696\n",
      "Number of ratio observations: 32374\n",
      "Ratio multiplicity: 1.4566479190101238\n",
      "Number of reflection observations: 198480\n",
      "Multiplicity: 4.302343225023302\n",
      "Number of ratio observations: 32439\n",
      "Ratio multiplicity: 1.4588505126821372\n",
      "Number of reflection observations: 198480\n",
      "Multiplicity: 4.300665207687808\n",
      "Number of ratio observations: 32197\n",
      "Ratio multiplicity: 1.4572734679098398\n",
      "Number of reflection observations: 198480\n",
      "Multiplicity: 4.303089430894309\n",
      "Number of ratio observations: 32251\n",
      "Ratio multiplicity: 1.4630284884775904\n",
      "Number of reflection observations: 198480\n",
      "Multiplicity: 4.302156713991547\n",
      "Number of ratio observations: 32150\n",
      "Ratio multiplicity: 1.4654268653995168\n",
      "Number of reflection observations: 198480\n",
      "Multiplicity: 4.292480373710504\n",
      "Number of ratio observations: 32239\n",
      "Ratio multiplicity: 1.460298047741994\n",
      "Number of reflection observations: 198480\n",
      "Multiplicity: 4.290902801798685\n",
      "Number of ratio observations: 32198\n",
      "Ratio multiplicity: 1.463345907376267\n",
      "Number of reflection observations: 198480\n",
      "Multiplicity: 4.294709509899383\n",
      "Number of ratio observations: 32272\n",
      "Ratio multiplicity: 1.4589511754068716\n",
      "Number of reflection observations: 198480\n",
      "Multiplicity: 4.297033990041134\n",
      "Number of ratio observations: 32453\n",
      "Ratio multiplicity: 1.4604653255929076\n",
      "Number of reflection observations: 198480\n",
      "Multiplicity: 4.288862958641255\n",
      "Number of ratio observations: 32283\n",
      "Ratio multiplicity: 1.4666757530325747\n",
      "Number of reflection observations: 198480\n",
      "Multiplicity: 4.297033990041134\n",
      "Number of ratio observations: 32162\n",
      "Ratio multiplicity: 1.448999819787349\n",
      "Number of reflection observations: 198480\n",
      "Multiplicity: 4.298336798336798\n",
      "Number of ratio observations: 32179\n",
      "Ratio multiplicity: 1.4658801020408163\n",
      "Number of reflection observations: 198480\n",
      "Multiplicity: 4.310284920083391\n",
      "Number of ratio observations: 32405\n",
      "Ratio multiplicity: 1.456797338608164\n",
      "Number of reflection observations: 198480\n",
      "Multiplicity: 4.287380654080442\n",
      "Number of ratio observations: 32278\n",
      "Ratio multiplicity: 1.4572460496613995\n",
      "Number of reflection observations: 198480\n",
      "Multiplicity: 4.299360987761291\n",
      "Number of ratio observations: 32478\n",
      "Ratio multiplicity: 1.4613273340832396\n",
      "Number of reflection observations: 198480\n",
      "Multiplicity: 4.305983425174643\n",
      "Number of ratio observations: 32325\n",
      "Ratio multiplicity: 1.457919898971676\n",
      "Number of reflection observations: 198480\n",
      "Multiplicity: 4.291366673153013\n",
      "Number of ratio observations: 32422\n",
      "Ratio multiplicity: 1.4565139263252471\n",
      "Number of reflection observations: 198480\n",
      "Multiplicity: 4.298522978299476\n",
      "Number of ratio observations: 32251\n",
      "Ratio multiplicity: 1.4634932159549847\n",
      "Number of reflection observations: 198480\n",
      "Multiplicity: 4.297685295455038\n",
      "Number of ratio observations: 32386\n",
      "Ratio multiplicity: 1.4643696871043588\n",
      "Number of reflection observations: 198480\n",
      "Multiplicity: 4.314032342201356\n",
      "Number of ratio observations: 32312\n",
      "Ratio multiplicity: 1.4564139547462365\n",
      "Number of reflection observations: 198480\n",
      "Multiplicity: 4.303835895656699\n",
      "Number of ratio observations: 32346\n",
      "Ratio multiplicity: 1.4636199095022624\n",
      "Number of reflection observations: 198480\n",
      "Multiplicity: 4.290160816185371\n",
      "Number of ratio observations: 32072\n",
      "Ratio multiplicity: 1.451944406718276\n",
      "Number of reflection observations: 198480\n",
      "Multiplicity: 4.303369324834136\n",
      "Number of ratio observations: 32311\n",
      "Ratio multiplicity: 1.464753615304411\n",
      "Number of reflection observations: 198480\n",
      "Multiplicity: 4.293316028552888\n",
      "Number of ratio observations: 32374\n",
      "Ratio multiplicity: 1.4613162408594385\n",
      "Number of reflection observations: 198480\n",
      "Multiplicity: 4.298522978299476\n",
      "Number of ratio observations: 32083\n",
      "Ratio multiplicity: 1.4579205671180586\n",
      "Number of reflection observations: 198480\n",
      "Multiplicity: 4.292109075968255\n",
      "Number of ratio observations: 32263\n",
      "Ratio multiplicity: 1.463639250555732\n",
      "Number of reflection observations: 198480\n",
      "Multiplicity: 4.289326389038965\n"
     ]
    }
   ],
   "source": [
    "reload(gammastimator)\n",
    "\n",
    "n = 20\n",
    "\n",
    "cc = None\n",
    "bins = None\n",
    "for i in range(n):\n",
    "    cc_,bins = gammastimator.cchalf(c, I, gammastimator.sparsedeltaFestimate, 10)\n",
    "    if cc is None:\n",
    "        cc = cc_\n",
    "    else:\n",
    "        cc = np.vstack((cc, cc_))\n"
   ]
  },
  {
   "cell_type": "code",
   "execution_count": null,
   "metadata": {},
   "outputs": [],
   "source": [
    "plt.violinplot(cc)"
   ]
  },
  {
   "cell_type": "code",
   "execution_count": null,
   "metadata": {},
   "outputs": [],
   "source": []
  }
 ],
 "metadata": {
  "kernelspec": {
   "display_name": "Python 3",
   "language": "python",
   "name": "python3"
  },
  "language_info": {
   "codemirror_mode": {
    "name": "ipython",
    "version": 3
   },
   "file_extension": ".py",
   "mimetype": "text/x-python",
   "name": "python",
   "nbconvert_exporter": "python",
   "pygments_lexer": "ipython3",
   "version": "3.6.5"
  }
 },
 "nbformat": 4,
 "nbformat_minor": 2
}
