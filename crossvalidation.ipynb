{
 "cells": [
  {
   "cell_type": "code",
   "execution_count": 1,
   "metadata": {},
   "outputs": [
    {
     "name": "stdout",
     "output_type": "stream",
     "text": [
      "Populating the interactive namespace from numpy and matplotlib\n"
     ]
    },
    {
     "name": "stderr",
     "output_type": "stream",
     "text": [
      "/n/home04/kmdalton/opt/anaconda3/lib/python3.6/site-packages/h5py/__init__.py:36: FutureWarning: Conversion of the second argument of issubdtype from `float` to `np.floating` is deprecated. In future, it will be treated as `np.float64 == np.dtype(float).type`.\n",
      "  from ._conv import register_converters as _register_converters\n"
     ]
    },
    {
     "name": "stdout",
     "output_type": "stream",
     "text": [
      "Already up-to-date.\n",
      "aaggpu03.rc.fas.harvard.edu\n"
     ]
    }
   ],
   "source": [
    "%pylab inline\n",
    "import re\n",
    "import pandas as pd\n",
    "import gammastimator\n",
    "import crystal\n",
    "from importlib import reload\n",
    "\n",
    "!git pull\n",
    "!hostname\n",
    "\n",
    "reflectionFN = 'test/reflections.csv.bz2'\n",
    "imagedataFN = 'test/imagedata.csv.bz2'\n",
    "referenceData  = 'test/dhfr/P21_Reference_Data.cns'\n",
    "fcalcData    = 'test/dhfr/P21_Reference_Data_fmodel.cns'\n",
    "\n",
    "spacegroupnumber = 4"
   ]
  },
  {
   "cell_type": "code",
   "execution_count": 2,
   "metadata": {},
   "outputs": [
    {
     "name": "stdout",
     "output_type": "stream",
     "text": [
      "(3, 3566724)\n"
     ]
    },
    {
     "name": "stderr",
     "output_type": "stream",
     "text": [
      "/n/home04/kmdalton/opt/gammastimator/gammastimator.py:34: SettingWithCopyWarning: \n",
      "A value is trying to be set on a copy of a slice from a DataFrame.\n",
      "Try using .loc[row_indexer,col_indexer] = value instead\n",
      "\n",
      "See the caveats in the documentation: http://pandas.pydata.org/pandas-docs/stable/indexing.html#indexing-view-versus-copy\n",
      "  dataframe[k] = dataframe[k].astype(columns[k])\n",
      "/n/home04/kmdalton/opt/gammastimator/gammastimator.py:45: SettingWithCopyWarning: \n",
      "A value is trying to be set on a copy of a slice from a DataFrame.\n",
      "Try using .loc[row_indexer,col_indexer] = value instead\n",
      "\n",
      "See the caveats in the documentation: http://pandas.pydata.org/pandas-docs/stable/indexing.html#indexing-view-versus-copy\n",
      "  dataframe['on'] = dataframe.SERIES.str.contains('on')\n"
     ]
    }
   ],
   "source": [
    "R = crystal.crystal().read_hkl(referenceData)\n",
    "fcalc = crystal.crystal().read_hkl(fcalcData)\n",
    "R['PHASE'] = fcalc['PHASE']\n",
    "R.spacegroup = spacegroupnumber\n",
    "R.unmerge()\n",
    "\n",
    "\n",
    "SNR_CUTOFF = 0.1 #Minimum I/SIGMA(I)\n",
    "\n",
    "I = pd.read_csv(reflectionFN)\n",
    "I = I[I['IOBS']/I['SIGMA(IOBS)'] > SNR_CUTOFF]\n",
    "#I['H'],I['K'] = I['K'],-I['H'] #Reindexing op for data integrated in P212121\n",
    "I = crystal.crystal(I.set_index(['H', 'K', 'L']))\n",
    "I.spacegroup = spacegroupnumber\n",
    "I.populate_merged_hkls()\n",
    "\n",
    "M = pd.read_csv(imagedataFN).set_index('Image#')\n",
    "M['SERIES'] = M['file_name'].apply(lambda x: 'off' if 'off' in x else 'on') + M['file_name'].apply(lambda x: x.split('/')[-1].split('_')[0])\n",
    "M['RUN'] = M['file_name'].apply(lambda x:int(re.search(r'(?<=r)[0-9]*', x).group()))\n",
    "M['PHINUMBER'] = M['file_name'].apply(lambda x : int(re.search(r'(?<=_)[0-9]+(?=.tiff)', x).group()))\n",
    "\n",
    "I = I.reset_index().merge(M.reset_index(), on='Image#')\n",
    "\n",
    "keepcols = [\n",
    "    'H',\n",
    "    'K',\n",
    "    'L',\n",
    "    #'MERGEDH',\n",
    "    #'MERGEDK',\n",
    "    #'MERGEDL',\n",
    "    'IOBS',\n",
    "    'SIGMA(IOBS)',\n",
    "    'ipm2',\n",
    "    #'ipm3',\n",
    "    'ipm2_xpos',\n",
    "    #'ipm3_xpos',\n",
    "    'ipm2_ypos',\n",
    "    #'ipm3_ypos',\n",
    "    'RUN',\n",
    "    'PHINUMBER',\n",
    "    'SERIES'\n",
    "]\n",
    "\n",
    "I = I[[i for i in keepcols]]\n",
    "I = gammastimator.append_reference_data(I, R)\n",
    "I = gammastimator.pare_data(I)"
   ]
  },
  {
   "cell_type": "code",
   "execution_count": null,
   "metadata": {},
   "outputs": [
    {
     "name": "stdout",
     "output_type": "stream",
     "text": [
      "0 : 0:00:00.000240\n"
     ]
    }
   ],
   "source": [
    "from time import time\n",
    "from datetime import timedelta\n",
    "\n",
    "bins = cc = None\n",
    "\n",
    "binFN = \"test/DHFR_DeltaFoverF/bins_scrambled_2.npy\"\n",
    "ccFN = \"test/DHFR_DeltaFoverF/cc_scrambled_2.npy\"\n",
    "\n",
    "\n",
    "function = lambda x: gammastimator.sparsedeltaFestimate(x, 'ipm2_xpos', 'ipm2_ypos', 'ipm2', True)\n",
    "\n",
    "start = time()\n",
    "for i in range(20):\n",
    "    print(\"{} : {}\".format(i, str(timedelta(seconds=time() - start))))\n",
    "    bins, cc_ = gammastimator.cchalf(I, function, 10)\n",
    "    if cc is None:\n",
    "        cc = cc_\n",
    "    else:\n",
    "        cc = np.vstack((cc, cc_))\n",
    "    np.save(binFN, bins)\n",
    "    np.save(ccFN, cc)\n",
    "    print(\" \"*len(\"{}\".format(i)) + \"   {}\".format(str(timedelta(seconds=time() - start))))"
   ]
  },
  {
   "cell_type": "code",
   "execution_count": 6,
   "metadata": {},
   "outputs": [
    {
     "name": "stderr",
     "output_type": "stream",
     "text": [
      "/n/home04/kmdalton/opt/gammastimator/gammastimator.py:34: SettingWithCopyWarning: \n",
      "A value is trying to be set on a copy of a slice from a DataFrame.\n",
      "Try using .loc[row_indexer,col_indexer] = value instead\n",
      "\n",
      "See the caveats in the documentation: http://pandas.pydata.org/pandas-docs/stable/indexing.html#indexing-view-versus-copy\n",
      "  dataframe[k] = dataframe[k].astype(columns[k])\n"
     ]
    },
    {
     "ename": "AttributeError",
     "evalue": "'DataFrame' object has no attribute 'SERIES'",
     "output_type": "error",
     "traceback": [
      "\u001b[0;31m\u001b[0m",
      "\u001b[0;31mAttributeError\u001b[0mTraceback (most recent call last)",
      "\u001b[0;32m<ipython-input-6-ccc10026c173>\u001b[0m in \u001b[0;36m<module>\u001b[0;34m()\u001b[0m\n\u001b[0;32m----> 1\u001b[0;31m \u001b[0mI\u001b[0m \u001b[0;34m=\u001b[0m \u001b[0mgammastimator\u001b[0m\u001b[0;34m.\u001b[0m\u001b[0mpare_data\u001b[0m\u001b[0;34m(\u001b[0m\u001b[0mpd\u001b[0m\u001b[0;34m.\u001b[0m\u001b[0mread_csv\u001b[0m\u001b[0;34m(\u001b[0m\u001b[0mreflectionFN\u001b[0m\u001b[0;34m)\u001b[0m\u001b[0;34m)\u001b[0m\u001b[0;34m\u001b[0m\u001b[0m\n\u001b[0m\u001b[1;32m      2\u001b[0m \u001b[0mR\u001b[0m \u001b[0;34m=\u001b[0m \u001b[0mgammastimator\u001b[0m\u001b[0;34m.\u001b[0m\u001b[0mcrystal\u001b[0m\u001b[0;34m.\u001b[0m\u001b[0mcrystal\u001b[0m\u001b[0;34m(\u001b[0m\u001b[0;34m)\u001b[0m\u001b[0;34m.\u001b[0m\u001b[0mread_hkl\u001b[0m\u001b[0;34m(\u001b[0m\u001b[0mreferenceFN\u001b[0m\u001b[0;34m)\u001b[0m\u001b[0;34m\u001b[0m\u001b[0m\n\u001b[1;32m      3\u001b[0m \u001b[0mR\u001b[0m\u001b[0;34m.\u001b[0m\u001b[0mspacegroup\u001b[0m\u001b[0;34m=\u001b[0m \u001b[0mspacegroup\u001b[0m\u001b[0;34m\u001b[0m\u001b[0m\n\u001b[1;32m      4\u001b[0m \u001b[0mR\u001b[0m\u001b[0;34m.\u001b[0m\u001b[0munmerge\u001b[0m\u001b[0;34m(\u001b[0m\u001b[0;34m)\u001b[0m\u001b[0;34m\u001b[0m\u001b[0m\n",
      "\u001b[0;32m~/opt/gammastimator/gammastimator.py\u001b[0m in \u001b[0;36mpare_data\u001b[0;34m(dataframe, columns)\u001b[0m\n\u001b[1;32m     43\u001b[0m     \u001b[0;31m#dataframe = dataframe.groupby(['H', 'K', 'L', 'RUN', 'PHINUMBER']).filter(lambda x: x.SERIES.str.contains('on').max() and x.SERIES.str.contains('off').max())\u001b[0m\u001b[0;34m\u001b[0m\u001b[0;34m\u001b[0m\u001b[0m\n\u001b[1;32m     44\u001b[0m \u001b[0;34m\u001b[0m\u001b[0m\n\u001b[0;32m---> 45\u001b[0;31m     \u001b[0mdataframe\u001b[0m\u001b[0;34m[\u001b[0m\u001b[0;34m'on'\u001b[0m\u001b[0;34m]\u001b[0m \u001b[0;34m=\u001b[0m \u001b[0mdataframe\u001b[0m\u001b[0;34m.\u001b[0m\u001b[0mSERIES\u001b[0m\u001b[0;34m.\u001b[0m\u001b[0mstr\u001b[0m\u001b[0;34m.\u001b[0m\u001b[0mcontains\u001b[0m\u001b[0;34m(\u001b[0m\u001b[0;34m'on'\u001b[0m\u001b[0;34m)\u001b[0m\u001b[0;34m\u001b[0m\u001b[0m\n\u001b[0m\u001b[1;32m     46\u001b[0m     \u001b[0;31m#dataframe['off'] = dataframe.SERIES.str.contains('off')\u001b[0m\u001b[0;34m\u001b[0m\u001b[0;34m\u001b[0m\u001b[0m\n\u001b[1;32m     47\u001b[0m     \u001b[0mdataframe\u001b[0m \u001b[0;34m=\u001b[0m \u001b[0mdataframe\u001b[0m\u001b[0;34m.\u001b[0m\u001b[0mgroupby\u001b[0m\u001b[0;34m(\u001b[0m\u001b[0;34m[\u001b[0m\u001b[0;34m'H'\u001b[0m\u001b[0;34m,\u001b[0m \u001b[0;34m'K'\u001b[0m\u001b[0;34m,\u001b[0m \u001b[0;34m'L'\u001b[0m\u001b[0;34m,\u001b[0m \u001b[0;34m'RUN'\u001b[0m\u001b[0;34m,\u001b[0m \u001b[0;34m'PHINUMBER'\u001b[0m\u001b[0;34m]\u001b[0m\u001b[0;34m)\u001b[0m\u001b[0;34m.\u001b[0m\u001b[0mfilter\u001b[0m\u001b[0;34m(\u001b[0m\u001b[0;32mlambda\u001b[0m \u001b[0mx\u001b[0m\u001b[0;34m:\u001b[0m \u001b[0mx\u001b[0m\u001b[0;34m.\u001b[0m\u001b[0mon\u001b[0m\u001b[0;34m.\u001b[0m\u001b[0mmax\u001b[0m\u001b[0;34m(\u001b[0m\u001b[0;34m)\u001b[0m \u001b[0;32mand\u001b[0m \u001b[0;34m~\u001b[0m\u001b[0mx\u001b[0m\u001b[0;34m.\u001b[0m\u001b[0mon\u001b[0m\u001b[0;34m.\u001b[0m\u001b[0mmin\u001b[0m\u001b[0;34m(\u001b[0m\u001b[0;34m)\u001b[0m\u001b[0;34m)\u001b[0m\u001b[0;34m\u001b[0m\u001b[0m\n",
      "\u001b[0;32m~/opt/anaconda3/lib/python3.6/site-packages/pandas/core/generic.py\u001b[0m in \u001b[0;36m__getattr__\u001b[0;34m(self, name)\u001b[0m\n\u001b[1;32m   4374\u001b[0m             \u001b[0;32mif\u001b[0m \u001b[0mself\u001b[0m\u001b[0;34m.\u001b[0m\u001b[0m_info_axis\u001b[0m\u001b[0;34m.\u001b[0m\u001b[0m_can_hold_identifiers_and_holds_name\u001b[0m\u001b[0;34m(\u001b[0m\u001b[0mname\u001b[0m\u001b[0;34m)\u001b[0m\u001b[0;34m:\u001b[0m\u001b[0;34m\u001b[0m\u001b[0m\n\u001b[1;32m   4375\u001b[0m                 \u001b[0;32mreturn\u001b[0m \u001b[0mself\u001b[0m\u001b[0;34m[\u001b[0m\u001b[0mname\u001b[0m\u001b[0;34m]\u001b[0m\u001b[0;34m\u001b[0m\u001b[0m\n\u001b[0;32m-> 4376\u001b[0;31m             \u001b[0;32mreturn\u001b[0m \u001b[0mobject\u001b[0m\u001b[0;34m.\u001b[0m\u001b[0m__getattribute__\u001b[0m\u001b[0;34m(\u001b[0m\u001b[0mself\u001b[0m\u001b[0;34m,\u001b[0m \u001b[0mname\u001b[0m\u001b[0;34m)\u001b[0m\u001b[0;34m\u001b[0m\u001b[0m\n\u001b[0m\u001b[1;32m   4377\u001b[0m \u001b[0;34m\u001b[0m\u001b[0m\n\u001b[1;32m   4378\u001b[0m     \u001b[0;32mdef\u001b[0m \u001b[0m__setattr__\u001b[0m\u001b[0;34m(\u001b[0m\u001b[0mself\u001b[0m\u001b[0;34m,\u001b[0m \u001b[0mname\u001b[0m\u001b[0;34m,\u001b[0m \u001b[0mvalue\u001b[0m\u001b[0;34m)\u001b[0m\u001b[0;34m:\u001b[0m\u001b[0;34m\u001b[0m\u001b[0m\n",
      "\u001b[0;31mAttributeError\u001b[0m: 'DataFrame' object has no attribute 'SERIES'"
     ]
    }
   ],
   "source": [
    "I = gammastimator.pare_data(pd.read_csv(reflectionFN))\n",
    "R = gammastimator.crystal.crystal().read_hkl(referenceFN)\n",
    "R.spacegroup= spacegroup\n",
    "R.unmerge()"
   ]
  },
  {
   "cell_type": "code",
   "execution_count": 30,
   "metadata": {},
   "outputs": [
    {
     "data": {
      "text/plain": [
       "Text(0,0.5,'$\\\\frac {\\\\Delta F} {F}\\\\ \\\\ \\\\ \\\\ CC_{1/2}$')"
      ]
     },
     "execution_count": 30,
     "metadata": {},
     "output_type": "execute_result"
    },
    {
     "data": {
      "image/png": "[encoded data removed]",
      "text/plain": [
       "<Figure size 432x288 with 1 Axes>"
      ]
     },
     "metadata": {},
     "output_type": "display_data"
    }
   ],
   "source": [
    "#binFN = 'test/DHFR_DeltaFoverF/bins.npy'\n",
    "ccFN = 'test/DHFR_DeltaFoverF/cc_scrambled_2.npy'\n",
    "binFN = 'test/DHFR_DeltaFoverF/bins_scrambled_2.npy'\n",
    "\n",
    "cc = np.load(ccFN)\n",
    "bins = np.load(binFN)\n",
    "\n",
    "cc = np.vstack((i for i in cc if np.sum(np.isnan(i)) == 0))\n",
    "\n",
    "parts = plt.violinplot(\n",
    "        cc, showmeans=False, showmedians=False,\n",
    "        showextrema=False)\n",
    "\n",
    "for pc in parts['bodies']:\n",
    "    pc.set_facecolor('grey')\n",
    "    pc.set_edgecolor('black')\n",
    "    pc.set_alpha(1)\n",
    "\n",
    "quartile1, medians, quartile3 = np.percentile(cc, [25, 50, 75], axis=0)\n",
    "whiskersMin, whiskersMax = np.min(cc, 0), np.max(cc, 0)\n",
    "\n",
    "inds = np.arange(1, len(medians) + 1)\n",
    "plt.scatter(inds, medians, marker='o', color='white', s=30, zorder=3)\n",
    "plt.vlines(inds, quartile1, quartile3, color='k', linestyle='-', lw=5)\n",
    "plt.vlines(inds, whiskersMin, whiskersMax, color='k', linestyle='-', lw=1)\n",
    "\n",
    "plt.xticks(np.arange(len(bins)) + 1.0, [r'${:0.2f}-{:0.2f}$'.format(i, j) for i,j in bins], rotation=65)\n",
    "plt.xlabel(\"$Resolution\\ Range\\ (\\AA)$\", fontsize=16)\n",
    "plt.ylabel(r\"$\\frac {\\Delta F} {F}\\ \\ \\ \\ CC_{1/2}$\", fontsize=16)"
   ]
  },
  {
   "cell_type": "code",
   "execution_count": 29,
   "metadata": {},
   "outputs": [
    {
     "data": {
      "text/plain": [
       "Text(0,0.5,'$\\\\frac {\\\\Delta F} {F}\\\\ \\\\ \\\\ \\\\ CC_{1/2}$')"
      ]
     },
     "execution_count": 29,
     "metadata": {},
     "output_type": "execute_result"
    },
    {
     "data": {
      "image/png": "[encoded data removed]",
      "text/plain": [
       "<Figure size 432x288 with 1 Axes>"
      ]
     },
     "metadata": {},
     "output_type": "display_data"
    }
   ],
   "source": [
    "binFN = 'test/DHFR_DeltaFoverF/bins.npy'\n",
    "ccFN  = 'test/DHFR_DeltaFoverF/cc.npy'\n",
    "\n",
    "cc = np.load(ccFN)\n",
    "bins = np.load(binFN)\n",
    "\n",
    "cc = np.vstack((i for i in cc if np.sum(np.isnan(i)) == 0))\n",
    "\n",
    "parts = plt.violinplot(\n",
    "        cc, showmeans=False, showmedians=False,\n",
    "        showextrema=False)\n",
    "\n",
    "for pc in parts['bodies']:\n",
    "    pc.set_facecolor('grey')\n",
    "    pc.set_edgecolor('black')\n",
    "    pc.set_alpha(1)\n",
    "\n",
    "quartile1, medians, quartile3 = np.percentile(cc, [25, 50, 75], axis=0)\n",
    "whiskersMin, whiskersMax = np.min(cc, 0), np.max(cc, 0)\n",
    "\n",
    "inds = np.arange(1, len(medians) + 1)\n",
    "plt.scatter(inds, medians, marker='o', color='white', s=30, zorder=3)\n",
    "plt.vlines(inds, quartile1, quartile3, color='k', linestyle='-', lw=5)\n",
    "plt.vlines(inds, whiskersMin, whiskersMax, color='k', linestyle='-', lw=1)\n",
    "\n",
    "plt.xticks(np.arange(len(bins)) + 1.0, [r'${:0.2f}-{:0.2f}$'.format(i, j) for i,j in bins], rotation=65)\n",
    "plt.xlabel(\"$Resolution\\ Range\\ (\\AA)$\", fontsize=16)\n",
    "plt.ylabel(r\"$\\frac {\\Delta F} {F}\\ \\ \\ \\ CC_{1/2}$\", fontsize=16)"
   ]
  }
 ],
 "metadata": {
  "kernelspec": {
   "display_name": "Python 3",
   "language": "python",
   "name": "python3"
  },
  "language_info": {
   "codemirror_mode": {
    "name": "ipython",
    "version": 3
   },
   "file_extension": ".py",
   "mimetype": "text/x-python",
   "name": "python",
   "nbconvert_exporter": "python",
   "pygments_lexer": "ipython3",
   "version": "3.6.5"
  }
 },
 "nbformat": 4,
 "nbformat_minor": 2
}
